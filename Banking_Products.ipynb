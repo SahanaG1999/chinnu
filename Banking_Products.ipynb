{
  "nbformat": 4,
  "nbformat_minor": 0,
  "metadata": {
    "colab": {
      "name": "Banking Products.ipynb",
      "provenance": [],
      "authorship_tag": "ABX9TyOVZu9NNnSbGsj+BBJkRcuw",
      "include_colab_link": true
    },
    "kernelspec": {
      "name": "python3",
      "display_name": "Python 3"
    }
  },
  "cells": [
    {
      "cell_type": "markdown",
      "metadata": {
        "id": "view-in-github",
        "colab_type": "text"
      },
      "source": [
        "<a href=\"https://colab.research.google.com/github/SahanaG1999/chinnu/blob/master/Banking_Products.ipynb\" target=\"_parent\"><img src=\"https://colab.research.google.com/assets/colab-badge.svg\" alt=\"Open In Colab\"/></a>"
      ]
    },
    {
      "cell_type": "markdown",
      "metadata": {
        "id": "nJizupQBxV2c",
        "colab_type": "text"
      },
      "source": [
        "MADE BY:SAHANA G"
      ]
    },
    {
      "cell_type": "markdown",
      "metadata": {
        "id": "KrmfoztOwjDf",
        "colab_type": "text"
      },
      "source": [
        "# ***Project Title:Marketing Campaign for Banking Products***"
      ]
    },
    {
      "cell_type": "markdown",
      "metadata": {
        "id": "ep7-QuIrxCy4",
        "colab_type": "text"
      },
      "source": [
        "**Objective:**\n",
        "The classification goal is to predict the likelihood of a liability customer buying personal loans.\n"
      ]
    },
    {
      "cell_type": "code",
      "metadata": {
        "id": "JLW2jx26dYle",
        "colab_type": "code",
        "colab": {}
      },
      "source": [
        "#Uploading the libraries\n",
        "import pandas as tm                         #dataset\n",
        "import numpy as np                          #array\n",
        "import seaborn as sns                       #visualisation\n",
        "import matplotlib.pyplot as plt             #visualisation\n",
        "%matplotlib inline"
      ],
      "execution_count": 21,
      "outputs": []
    },
    {
      "cell_type": "code",
      "metadata": {
        "id": "NN47OfyR5qZf",
        "colab_type": "code",
        "colab": {
          "resources": {
            "http://localhost:8080/nbextensions/google.colab/files.js": {
              "data": "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",
              "ok": true,
              "headers": [
                [
                  "content-type",
                  "application/javascript"
                ]
              ],
              "status": 200,
              "status_text": ""
            }
          },
          "base_uri": "https://localhost:8080/",
          "height": 73
        },
        "outputId": "2958f474-1ad6-4c17-aea7-5c257f95236b"
      },
      "source": [
        "#Accessing the data\n",
        "\n",
        "from google.colab import files\n",
        "uploaded = files.upload()"
      ],
      "execution_count": 43,
      "outputs": [
        {
          "output_type": "display_data",
          "data": {
            "text/html": [
              "\n",
              "     <input type=\"file\" id=\"files-df85c2df-c753-4d76-b7dd-d9eb9f606769\" name=\"files[]\" multiple disabled\n",
              "        style=\"border:none\" />\n",
              "     <output id=\"result-df85c2df-c753-4d76-b7dd-d9eb9f606769\">\n",
              "      Upload widget is only available when the cell has been executed in the\n",
              "      current browser session. Please rerun this cell to enable.\n",
              "      </output>\n",
              "      <script src=\"/nbextensions/google.colab/files.js\"></script> "
            ],
            "text/plain": [
              "<IPython.core.display.HTML object>"
            ]
          },
          "metadata": {
            "tags": []
          }
        },
        {
          "output_type": "stream",
          "text": [
            "Saving Bank_Personal_Loan_Modelling.xlsx to Bank_Personal_Loan_Modelling (3).xlsx\n"
          ],
          "name": "stdout"
        }
      ]
    },
    {
      "cell_type": "code",
      "metadata": {
        "id": "qhXPYh-K5ub8",
        "colab_type": "code",
        "colab": {}
      },
      "source": [
        "import io \n",
        "dataframe = tm.read_excel(r'Bank_Personal_Loan_Modelling.xlsx',sheet_name='Data')\n",
        "dataframe_copy=dataframe.copy()"
      ],
      "execution_count": 44,
      "outputs": []
    },
    {
      "cell_type": "code",
      "metadata": {
        "id": "cGl0wV6sgG8E",
        "colab_type": "code",
        "colab": {
          "base_uri": "https://localhost:8080/",
          "height": 406
        },
        "outputId": "68f5ed95-d49e-419d-bf7f-620e623f171d"
      },
      "source": [
        "#dataset\n",
        "dataframe"
      ],
      "execution_count": 115,
      "outputs": [
        {
          "output_type": "execute_result",
          "data": {
            "text/html": [
              "<div>\n",
              "<style scoped>\n",
              "    .dataframe tbody tr th:only-of-type {\n",
              "        vertical-align: middle;\n",
              "    }\n",
              "\n",
              "    .dataframe tbody tr th {\n",
              "        vertical-align: top;\n",
              "    }\n",
              "\n",
              "    .dataframe thead th {\n",
              "        text-align: right;\n",
              "    }\n",
              "</style>\n",
              "<table border=\"1\" class=\"dataframe\">\n",
              "  <thead>\n",
              "    <tr style=\"text-align: right;\">\n",
              "      <th></th>\n",
              "      <th>Age</th>\n",
              "      <th>Income</th>\n",
              "      <th>Family</th>\n",
              "      <th>CCAvg</th>\n",
              "      <th>Education</th>\n",
              "      <th>Mortgage</th>\n",
              "      <th>Personal Loan</th>\n",
              "      <th>Securities Account</th>\n",
              "      <th>CD Account</th>\n",
              "      <th>Online</th>\n",
              "      <th>CreditCard</th>\n",
              "    </tr>\n",
              "  </thead>\n",
              "  <tbody>\n",
              "    <tr>\n",
              "      <th>0</th>\n",
              "      <td>25</td>\n",
              "      <td>49</td>\n",
              "      <td>4</td>\n",
              "      <td>1.6</td>\n",
              "      <td>1</td>\n",
              "      <td>0</td>\n",
              "      <td>0</td>\n",
              "      <td>1</td>\n",
              "      <td>0</td>\n",
              "      <td>0</td>\n",
              "      <td>0</td>\n",
              "    </tr>\n",
              "    <tr>\n",
              "      <th>1</th>\n",
              "      <td>45</td>\n",
              "      <td>34</td>\n",
              "      <td>3</td>\n",
              "      <td>1.5</td>\n",
              "      <td>1</td>\n",
              "      <td>0</td>\n",
              "      <td>0</td>\n",
              "      <td>1</td>\n",
              "      <td>0</td>\n",
              "      <td>0</td>\n",
              "      <td>0</td>\n",
              "    </tr>\n",
              "    <tr>\n",
              "      <th>2</th>\n",
              "      <td>39</td>\n",
              "      <td>11</td>\n",
              "      <td>1</td>\n",
              "      <td>1.0</td>\n",
              "      <td>1</td>\n",
              "      <td>0</td>\n",
              "      <td>0</td>\n",
              "      <td>0</td>\n",
              "      <td>0</td>\n",
              "      <td>0</td>\n",
              "      <td>0</td>\n",
              "    </tr>\n",
              "    <tr>\n",
              "      <th>3</th>\n",
              "      <td>35</td>\n",
              "      <td>100</td>\n",
              "      <td>1</td>\n",
              "      <td>2.7</td>\n",
              "      <td>2</td>\n",
              "      <td>0</td>\n",
              "      <td>0</td>\n",
              "      <td>0</td>\n",
              "      <td>0</td>\n",
              "      <td>0</td>\n",
              "      <td>0</td>\n",
              "    </tr>\n",
              "    <tr>\n",
              "      <th>4</th>\n",
              "      <td>35</td>\n",
              "      <td>45</td>\n",
              "      <td>4</td>\n",
              "      <td>1.0</td>\n",
              "      <td>2</td>\n",
              "      <td>0</td>\n",
              "      <td>0</td>\n",
              "      <td>0</td>\n",
              "      <td>0</td>\n",
              "      <td>0</td>\n",
              "      <td>1</td>\n",
              "    </tr>\n",
              "    <tr>\n",
              "      <th>...</th>\n",
              "      <td>...</td>\n",
              "      <td>...</td>\n",
              "      <td>...</td>\n",
              "      <td>...</td>\n",
              "      <td>...</td>\n",
              "      <td>...</td>\n",
              "      <td>...</td>\n",
              "      <td>...</td>\n",
              "      <td>...</td>\n",
              "      <td>...</td>\n",
              "      <td>...</td>\n",
              "    </tr>\n",
              "    <tr>\n",
              "      <th>4995</th>\n",
              "      <td>29</td>\n",
              "      <td>40</td>\n",
              "      <td>1</td>\n",
              "      <td>1.9</td>\n",
              "      <td>3</td>\n",
              "      <td>0</td>\n",
              "      <td>0</td>\n",
              "      <td>0</td>\n",
              "      <td>0</td>\n",
              "      <td>1</td>\n",
              "      <td>0</td>\n",
              "    </tr>\n",
              "    <tr>\n",
              "      <th>4996</th>\n",
              "      <td>30</td>\n",
              "      <td>15</td>\n",
              "      <td>4</td>\n",
              "      <td>0.4</td>\n",
              "      <td>1</td>\n",
              "      <td>85</td>\n",
              "      <td>0</td>\n",
              "      <td>0</td>\n",
              "      <td>0</td>\n",
              "      <td>1</td>\n",
              "      <td>0</td>\n",
              "    </tr>\n",
              "    <tr>\n",
              "      <th>4997</th>\n",
              "      <td>63</td>\n",
              "      <td>24</td>\n",
              "      <td>2</td>\n",
              "      <td>0.3</td>\n",
              "      <td>3</td>\n",
              "      <td>0</td>\n",
              "      <td>0</td>\n",
              "      <td>0</td>\n",
              "      <td>0</td>\n",
              "      <td>0</td>\n",
              "      <td>0</td>\n",
              "    </tr>\n",
              "    <tr>\n",
              "      <th>4998</th>\n",
              "      <td>65</td>\n",
              "      <td>49</td>\n",
              "      <td>3</td>\n",
              "      <td>0.5</td>\n",
              "      <td>2</td>\n",
              "      <td>0</td>\n",
              "      <td>0</td>\n",
              "      <td>0</td>\n",
              "      <td>0</td>\n",
              "      <td>1</td>\n",
              "      <td>0</td>\n",
              "    </tr>\n",
              "    <tr>\n",
              "      <th>4999</th>\n",
              "      <td>28</td>\n",
              "      <td>83</td>\n",
              "      <td>3</td>\n",
              "      <td>0.8</td>\n",
              "      <td>1</td>\n",
              "      <td>0</td>\n",
              "      <td>0</td>\n",
              "      <td>0</td>\n",
              "      <td>0</td>\n",
              "      <td>1</td>\n",
              "      <td>1</td>\n",
              "    </tr>\n",
              "  </tbody>\n",
              "</table>\n",
              "<p>4895 rows × 11 columns</p>\n",
              "</div>"
            ],
            "text/plain": [
              "      Age  Income  Family  ...  CD Account  Online  CreditCard\n",
              "0      25      49       4  ...           0       0           0\n",
              "1      45      34       3  ...           0       0           0\n",
              "2      39      11       1  ...           0       0           0\n",
              "3      35     100       1  ...           0       0           0\n",
              "4      35      45       4  ...           0       0           1\n",
              "...   ...     ...     ...  ...         ...     ...         ...\n",
              "4995   29      40       1  ...           0       1           0\n",
              "4996   30      15       4  ...           0       1           0\n",
              "4997   63      24       2  ...           0       0           0\n",
              "4998   65      49       3  ...           0       1           0\n",
              "4999   28      83       3  ...           0       1           1\n",
              "\n",
              "[4895 rows x 11 columns]"
            ]
          },
          "metadata": {
            "tags": []
          },
          "execution_count": 115
        }
      ]
    },
    {
      "cell_type": "code",
      "metadata": {
        "id": "xn3jXQuOgJ3I",
        "colab_type": "code",
        "colab": {
          "base_uri": "https://localhost:8080/",
          "height": 347
        },
        "outputId": "0cda6807-6bf8-4593-e0e9-b06b8c06bd14"
      },
      "source": [
        "#top 10 data in dataset\n",
        "dataframe.head(10)"
      ],
      "execution_count": 116,
      "outputs": [
        {
          "output_type": "execute_result",
          "data": {
            "text/html": [
              "<div>\n",
              "<style scoped>\n",
              "    .dataframe tbody tr th:only-of-type {\n",
              "        vertical-align: middle;\n",
              "    }\n",
              "\n",
              "    .dataframe tbody tr th {\n",
              "        vertical-align: top;\n",
              "    }\n",
              "\n",
              "    .dataframe thead th {\n",
              "        text-align: right;\n",
              "    }\n",
              "</style>\n",
              "<table border=\"1\" class=\"dataframe\">\n",
              "  <thead>\n",
              "    <tr style=\"text-align: right;\">\n",
              "      <th></th>\n",
              "      <th>Age</th>\n",
              "      <th>Income</th>\n",
              "      <th>Family</th>\n",
              "      <th>CCAvg</th>\n",
              "      <th>Education</th>\n",
              "      <th>Mortgage</th>\n",
              "      <th>Personal Loan</th>\n",
              "      <th>Securities Account</th>\n",
              "      <th>CD Account</th>\n",
              "      <th>Online</th>\n",
              "      <th>CreditCard</th>\n",
              "    </tr>\n",
              "  </thead>\n",
              "  <tbody>\n",
              "    <tr>\n",
              "      <th>0</th>\n",
              "      <td>25</td>\n",
              "      <td>49</td>\n",
              "      <td>4</td>\n",
              "      <td>1.6</td>\n",
              "      <td>1</td>\n",
              "      <td>0</td>\n",
              "      <td>0</td>\n",
              "      <td>1</td>\n",
              "      <td>0</td>\n",
              "      <td>0</td>\n",
              "      <td>0</td>\n",
              "    </tr>\n",
              "    <tr>\n",
              "      <th>1</th>\n",
              "      <td>45</td>\n",
              "      <td>34</td>\n",
              "      <td>3</td>\n",
              "      <td>1.5</td>\n",
              "      <td>1</td>\n",
              "      <td>0</td>\n",
              "      <td>0</td>\n",
              "      <td>1</td>\n",
              "      <td>0</td>\n",
              "      <td>0</td>\n",
              "      <td>0</td>\n",
              "    </tr>\n",
              "    <tr>\n",
              "      <th>2</th>\n",
              "      <td>39</td>\n",
              "      <td>11</td>\n",
              "      <td>1</td>\n",
              "      <td>1.0</td>\n",
              "      <td>1</td>\n",
              "      <td>0</td>\n",
              "      <td>0</td>\n",
              "      <td>0</td>\n",
              "      <td>0</td>\n",
              "      <td>0</td>\n",
              "      <td>0</td>\n",
              "    </tr>\n",
              "    <tr>\n",
              "      <th>3</th>\n",
              "      <td>35</td>\n",
              "      <td>100</td>\n",
              "      <td>1</td>\n",
              "      <td>2.7</td>\n",
              "      <td>2</td>\n",
              "      <td>0</td>\n",
              "      <td>0</td>\n",
              "      <td>0</td>\n",
              "      <td>0</td>\n",
              "      <td>0</td>\n",
              "      <td>0</td>\n",
              "    </tr>\n",
              "    <tr>\n",
              "      <th>4</th>\n",
              "      <td>35</td>\n",
              "      <td>45</td>\n",
              "      <td>4</td>\n",
              "      <td>1.0</td>\n",
              "      <td>2</td>\n",
              "      <td>0</td>\n",
              "      <td>0</td>\n",
              "      <td>0</td>\n",
              "      <td>0</td>\n",
              "      <td>0</td>\n",
              "      <td>1</td>\n",
              "    </tr>\n",
              "    <tr>\n",
              "      <th>5</th>\n",
              "      <td>37</td>\n",
              "      <td>29</td>\n",
              "      <td>4</td>\n",
              "      <td>0.4</td>\n",
              "      <td>2</td>\n",
              "      <td>155</td>\n",
              "      <td>0</td>\n",
              "      <td>0</td>\n",
              "      <td>0</td>\n",
              "      <td>1</td>\n",
              "      <td>0</td>\n",
              "    </tr>\n",
              "    <tr>\n",
              "      <th>6</th>\n",
              "      <td>53</td>\n",
              "      <td>72</td>\n",
              "      <td>2</td>\n",
              "      <td>1.5</td>\n",
              "      <td>2</td>\n",
              "      <td>0</td>\n",
              "      <td>0</td>\n",
              "      <td>0</td>\n",
              "      <td>0</td>\n",
              "      <td>1</td>\n",
              "      <td>0</td>\n",
              "    </tr>\n",
              "    <tr>\n",
              "      <th>7</th>\n",
              "      <td>50</td>\n",
              "      <td>22</td>\n",
              "      <td>1</td>\n",
              "      <td>0.3</td>\n",
              "      <td>3</td>\n",
              "      <td>0</td>\n",
              "      <td>0</td>\n",
              "      <td>0</td>\n",
              "      <td>0</td>\n",
              "      <td>0</td>\n",
              "      <td>1</td>\n",
              "    </tr>\n",
              "    <tr>\n",
              "      <th>8</th>\n",
              "      <td>35</td>\n",
              "      <td>81</td>\n",
              "      <td>3</td>\n",
              "      <td>0.6</td>\n",
              "      <td>2</td>\n",
              "      <td>104</td>\n",
              "      <td>0</td>\n",
              "      <td>0</td>\n",
              "      <td>0</td>\n",
              "      <td>1</td>\n",
              "      <td>0</td>\n",
              "    </tr>\n",
              "    <tr>\n",
              "      <th>9</th>\n",
              "      <td>34</td>\n",
              "      <td>180</td>\n",
              "      <td>1</td>\n",
              "      <td>8.9</td>\n",
              "      <td>3</td>\n",
              "      <td>0</td>\n",
              "      <td>1</td>\n",
              "      <td>0</td>\n",
              "      <td>0</td>\n",
              "      <td>0</td>\n",
              "      <td>0</td>\n",
              "    </tr>\n",
              "  </tbody>\n",
              "</table>\n",
              "</div>"
            ],
            "text/plain": [
              "   Age  Income  Family  ...  CD Account  Online  CreditCard\n",
              "0   25      49       4  ...           0       0           0\n",
              "1   45      34       3  ...           0       0           0\n",
              "2   39      11       1  ...           0       0           0\n",
              "3   35     100       1  ...           0       0           0\n",
              "4   35      45       4  ...           0       0           1\n",
              "5   37      29       4  ...           0       1           0\n",
              "6   53      72       2  ...           0       1           0\n",
              "7   50      22       1  ...           0       0           1\n",
              "8   35      81       3  ...           0       1           0\n",
              "9   34     180       1  ...           0       0           0\n",
              "\n",
              "[10 rows x 11 columns]"
            ]
          },
          "metadata": {
            "tags": []
          },
          "execution_count": 116
        }
      ]
    },
    {
      "cell_type": "code",
      "metadata": {
        "id": "gVhC7jQhgO50",
        "colab_type": "code",
        "colab": {
          "base_uri": "https://localhost:8080/",
          "height": 347
        },
        "outputId": "9201c5ec-a2aa-4b7b-91f7-b18f21b12cb1"
      },
      "source": [
        "#bottom 10 data in dataset\n",
        "dataframe.tail(10)"
      ],
      "execution_count": 117,
      "outputs": [
        {
          "output_type": "execute_result",
          "data": {
            "text/html": [
              "<div>\n",
              "<style scoped>\n",
              "    .dataframe tbody tr th:only-of-type {\n",
              "        vertical-align: middle;\n",
              "    }\n",
              "\n",
              "    .dataframe tbody tr th {\n",
              "        vertical-align: top;\n",
              "    }\n",
              "\n",
              "    .dataframe thead th {\n",
              "        text-align: right;\n",
              "    }\n",
              "</style>\n",
              "<table border=\"1\" class=\"dataframe\">\n",
              "  <thead>\n",
              "    <tr style=\"text-align: right;\">\n",
              "      <th></th>\n",
              "      <th>Age</th>\n",
              "      <th>Income</th>\n",
              "      <th>Family</th>\n",
              "      <th>CCAvg</th>\n",
              "      <th>Education</th>\n",
              "      <th>Mortgage</th>\n",
              "      <th>Personal Loan</th>\n",
              "      <th>Securities Account</th>\n",
              "      <th>CD Account</th>\n",
              "      <th>Online</th>\n",
              "      <th>CreditCard</th>\n",
              "    </tr>\n",
              "  </thead>\n",
              "  <tbody>\n",
              "    <tr>\n",
              "      <th>4990</th>\n",
              "      <td>55</td>\n",
              "      <td>58</td>\n",
              "      <td>4</td>\n",
              "      <td>2.000000</td>\n",
              "      <td>3</td>\n",
              "      <td>219</td>\n",
              "      <td>0</td>\n",
              "      <td>0</td>\n",
              "      <td>0</td>\n",
              "      <td>0</td>\n",
              "      <td>1</td>\n",
              "    </tr>\n",
              "    <tr>\n",
              "      <th>4991</th>\n",
              "      <td>51</td>\n",
              "      <td>92</td>\n",
              "      <td>1</td>\n",
              "      <td>1.900000</td>\n",
              "      <td>2</td>\n",
              "      <td>100</td>\n",
              "      <td>0</td>\n",
              "      <td>0</td>\n",
              "      <td>0</td>\n",
              "      <td>0</td>\n",
              "      <td>1</td>\n",
              "    </tr>\n",
              "    <tr>\n",
              "      <th>4992</th>\n",
              "      <td>30</td>\n",
              "      <td>13</td>\n",
              "      <td>4</td>\n",
              "      <td>0.500000</td>\n",
              "      <td>3</td>\n",
              "      <td>0</td>\n",
              "      <td>0</td>\n",
              "      <td>0</td>\n",
              "      <td>0</td>\n",
              "      <td>0</td>\n",
              "      <td>0</td>\n",
              "    </tr>\n",
              "    <tr>\n",
              "      <th>4993</th>\n",
              "      <td>45</td>\n",
              "      <td>218</td>\n",
              "      <td>2</td>\n",
              "      <td>6.666667</td>\n",
              "      <td>1</td>\n",
              "      <td>0</td>\n",
              "      <td>0</td>\n",
              "      <td>0</td>\n",
              "      <td>0</td>\n",
              "      <td>1</td>\n",
              "      <td>0</td>\n",
              "    </tr>\n",
              "    <tr>\n",
              "      <th>4994</th>\n",
              "      <td>64</td>\n",
              "      <td>75</td>\n",
              "      <td>3</td>\n",
              "      <td>2.000000</td>\n",
              "      <td>3</td>\n",
              "      <td>0</td>\n",
              "      <td>0</td>\n",
              "      <td>0</td>\n",
              "      <td>0</td>\n",
              "      <td>1</td>\n",
              "      <td>0</td>\n",
              "    </tr>\n",
              "    <tr>\n",
              "      <th>4995</th>\n",
              "      <td>29</td>\n",
              "      <td>40</td>\n",
              "      <td>1</td>\n",
              "      <td>1.900000</td>\n",
              "      <td>3</td>\n",
              "      <td>0</td>\n",
              "      <td>0</td>\n",
              "      <td>0</td>\n",
              "      <td>0</td>\n",
              "      <td>1</td>\n",
              "      <td>0</td>\n",
              "    </tr>\n",
              "    <tr>\n",
              "      <th>4996</th>\n",
              "      <td>30</td>\n",
              "      <td>15</td>\n",
              "      <td>4</td>\n",
              "      <td>0.400000</td>\n",
              "      <td>1</td>\n",
              "      <td>85</td>\n",
              "      <td>0</td>\n",
              "      <td>0</td>\n",
              "      <td>0</td>\n",
              "      <td>1</td>\n",
              "      <td>0</td>\n",
              "    </tr>\n",
              "    <tr>\n",
              "      <th>4997</th>\n",
              "      <td>63</td>\n",
              "      <td>24</td>\n",
              "      <td>2</td>\n",
              "      <td>0.300000</td>\n",
              "      <td>3</td>\n",
              "      <td>0</td>\n",
              "      <td>0</td>\n",
              "      <td>0</td>\n",
              "      <td>0</td>\n",
              "      <td>0</td>\n",
              "      <td>0</td>\n",
              "    </tr>\n",
              "    <tr>\n",
              "      <th>4998</th>\n",
              "      <td>65</td>\n",
              "      <td>49</td>\n",
              "      <td>3</td>\n",
              "      <td>0.500000</td>\n",
              "      <td>2</td>\n",
              "      <td>0</td>\n",
              "      <td>0</td>\n",
              "      <td>0</td>\n",
              "      <td>0</td>\n",
              "      <td>1</td>\n",
              "      <td>0</td>\n",
              "    </tr>\n",
              "    <tr>\n",
              "      <th>4999</th>\n",
              "      <td>28</td>\n",
              "      <td>83</td>\n",
              "      <td>3</td>\n",
              "      <td>0.800000</td>\n",
              "      <td>1</td>\n",
              "      <td>0</td>\n",
              "      <td>0</td>\n",
              "      <td>0</td>\n",
              "      <td>0</td>\n",
              "      <td>1</td>\n",
              "      <td>1</td>\n",
              "    </tr>\n",
              "  </tbody>\n",
              "</table>\n",
              "</div>"
            ],
            "text/plain": [
              "      Age  Income  Family  ...  CD Account  Online  CreditCard\n",
              "4990   55      58       4  ...           0       0           1\n",
              "4991   51      92       1  ...           0       0           1\n",
              "4992   30      13       4  ...           0       0           0\n",
              "4993   45     218       2  ...           0       1           0\n",
              "4994   64      75       3  ...           0       1           0\n",
              "4995   29      40       1  ...           0       1           0\n",
              "4996   30      15       4  ...           0       1           0\n",
              "4997   63      24       2  ...           0       0           0\n",
              "4998   65      49       3  ...           0       1           0\n",
              "4999   28      83       3  ...           0       1           1\n",
              "\n",
              "[10 rows x 11 columns]"
            ]
          },
          "metadata": {
            "tags": []
          },
          "execution_count": 117
        }
      ]
    },
    {
      "cell_type": "code",
      "metadata": {
        "id": "6sFZH3SY52YH",
        "colab_type": "code",
        "colab": {
          "base_uri": "https://localhost:8080/",
          "height": 105
        },
        "outputId": "e569d663-5928-48b2-dd65-f68d7c34ceca"
      },
      "source": [
        "#Names of the variables and shape of the dataset\n",
        "\n",
        "\n",
        "print(dataframe.columns)\n",
        "print(dataframe.shape)"
      ],
      "execution_count": 46,
      "outputs": [
        {
          "output_type": "stream",
          "text": [
            "Index(['ID', 'Age', 'Experience', 'Income', 'ZIP Code', 'Family', 'CCAvg',\n",
            "       'Education', 'Mortgage', 'Personal Loan', 'Securities Account',\n",
            "       'CD Account', 'Online', 'CreditCard'],\n",
            "      dtype='object')\n",
            "(5000, 14)\n"
          ],
          "name": "stdout"
        }
      ]
    },
    {
      "cell_type": "code",
      "metadata": {
        "id": "sDRdd3JBgdKG",
        "colab_type": "code",
        "colab": {
          "base_uri": "https://localhost:8080/",
          "height": 34
        },
        "outputId": "41e9d953-eef2-4f40-dc42-88a514825086"
      },
      "source": [
        "#number of people with zero mortgage\n",
        "\n",
        "(dataframe.Mortgage ==0).sum()"
      ],
      "execution_count": 118,
      "outputs": [
        {
          "output_type": "execute_result",
          "data": {
            "text/plain": [
              "3462"
            ]
          },
          "metadata": {
            "tags": []
          },
          "execution_count": 118
        }
      ]
    },
    {
      "cell_type": "code",
      "metadata": {
        "id": "tOR_4kp_ge4Y",
        "colab_type": "code",
        "colab": {
          "base_uri": "https://localhost:8080/",
          "height": 34
        },
        "outputId": "de9e39a4-12a6-4b4d-d08a-2eb77f6fe9f1"
      },
      "source": [
        "\n",
        "#number of people with zero credit\n",
        "\n",
        "(dataframe.CCAvg==0).sum()"
      ],
      "execution_count": 119,
      "outputs": [
        {
          "output_type": "execute_result",
          "data": {
            "text/plain": [
              "104"
            ]
          },
          "metadata": {
            "tags": []
          },
          "execution_count": 119
        }
      ]
    },
    {
      "cell_type": "code",
      "metadata": {
        "id": "DAwQwxnbgim4",
        "colab_type": "code",
        "colab": {
          "base_uri": "https://localhost:8080/",
          "height": 105
        },
        "outputId": "b111f6e4-669c-43bb-9948-5db83d498d35"
      },
      "source": [
        "#categorial columns\n",
        "#Family\n",
        "dataframe.Family.value_counts()"
      ],
      "execution_count": 120,
      "outputs": [
        {
          "output_type": "execute_result",
          "data": {
            "text/plain": [
              "1    1440\n",
              "2    1255\n",
              "4    1206\n",
              "3     994\n",
              "Name: Family, dtype: int64"
            ]
          },
          "metadata": {
            "tags": []
          },
          "execution_count": 120
        }
      ]
    },
    {
      "cell_type": "code",
      "metadata": {
        "id": "opvtO4Segoa_",
        "colab_type": "code",
        "colab": {
          "base_uri": "https://localhost:8080/",
          "height": 264
        },
        "outputId": "f4241881-8119-4273-b911-3bf6a5296017"
      },
      "source": [
        "#Viewing the bar graph representation of this distribution\n",
        "plt.plot(dataframe['Age'].value_counts())\n",
        "plt.show()"
      ],
      "execution_count": 121,
      "outputs": [
        {
          "output_type": "display_data",
          "data": {
            "image/png": "[encoded data removed]",
            "text/plain": [
              "<Figure size 432x288 with 1 Axes>"
            ]
          },
          "metadata": {
            "tags": [],
            "needs_background": "light"
          }
        }
      ]
    },
    {
      "cell_type": "code",
      "metadata": {
        "id": "iwFTwxsWgsRG",
        "colab_type": "code",
        "colab": {
          "base_uri": "https://localhost:8080/",
          "height": 318
        },
        "outputId": "da0189d0-b59a-4796-b4f4-9e13dc03f02d"
      },
      "source": [
        "#Pie chart Representation \n",
        "fig = plt.figure()\n",
        "ax = fig.add_axes([0,0,1,1])\n",
        "ax.axis('equal')\n",
        "label = ['1','2','3','4']\n",
        "ax.pie(dataframe['Family'].value_counts(),labels=label,autopct='%1.2f%%')\n",
        "plt.show()"
      ],
      "execution_count": 122,
      "outputs": [
        {
          "output_type": "display_data",
          "data": {
            "image/png": "[encoded data removed]",
            "text/plain": [
              "<Figure size 432x288 with 1 Axes>"
            ]
          },
          "metadata": {
            "tags": []
          }
        }
      ]
    },
    {
      "cell_type": "code",
      "metadata": {
        "id": "INJz-DAjgxUU",
        "colab_type": "code",
        "colab": {
          "base_uri": "https://localhost:8080/",
          "height": 87
        },
        "outputId": "f1714810-ae79-4ffc-aeac-b90de9cb6fff"
      },
      "source": [
        "#Education\n",
        "dataframe.Education.value_counts()"
      ],
      "execution_count": 123,
      "outputs": [
        {
          "output_type": "execute_result",
          "data": {
            "text/plain": [
              "1    2031\n",
              "3    1480\n",
              "2    1384\n",
              "Name: Education, dtype: int64"
            ]
          },
          "metadata": {
            "tags": []
          },
          "execution_count": 123
        }
      ]
    },
    {
      "cell_type": "code",
      "metadata": {
        "id": "IlfxlHjEg1rq",
        "colab_type": "code",
        "colab": {
          "base_uri": "https://localhost:8080/",
          "height": 318
        },
        "outputId": "ea7ae157-d917-4498-a4fa-cce2d5697b4e"
      },
      "source": [
        "#Pie Chart Representation\n",
        "fig = plt.figure()\n",
        "ax = fig.add_axes([0,0,1,1])\n",
        "ax.axis('equal')\n",
        "label = ['1','2','3']\n",
        "ax.pie(dataframe['Education'].value_counts(),labels=label,autopct='%1.2f%%')\n",
        "plt.show()"
      ],
      "execution_count": 124,
      "outputs": [
        {
          "output_type": "display_data",
          "data": {
            "image/png": "[encoded data removed]",
            "text/plain": [
              "<Figure size 432x288 with 1 Axes>"
            ]
          },
          "metadata": {
            "tags": []
          }
        }
      ]
    },
    {
      "cell_type": "code",
      "metadata": {
        "id": "t1KNOw8Rg8PF",
        "colab_type": "code",
        "colab": {
          "base_uri": "https://localhost:8080/",
          "height": 264
        },
        "outputId": "6aa58953-4b7e-4fcd-a6f1-f0faf4f0d833"
      },
      "source": [
        "#Viewing the bar graph representation of this distribution\n",
        "plt.bar(label, dataframe['Education'].value_counts())\n",
        "plt.show()"
      ],
      "execution_count": 125,
      "outputs": [
        {
          "output_type": "display_data",
          "data": {
            "image/png": "[encoded data removed]",
            "text/plain": [
              "<Figure size 432x288 with 1 Axes>"
            ]
          },
          "metadata": {
            "tags": [],
            "needs_background": "light"
          }
        }
      ]
    },
    {
      "cell_type": "code",
      "metadata": {
        "id": "YGLBtF5fg9V0",
        "colab_type": "code",
        "colab": {
          "base_uri": "https://localhost:8080/",
          "height": 70
        },
        "outputId": "d3cc33cd-df15-4cc3-b836-94f94626190f"
      },
      "source": [
        "#Securities Account\n",
        "dataframe[\"Securities Account\"].value_counts()"
      ],
      "execution_count": 126,
      "outputs": [
        {
          "output_type": "execute_result",
          "data": {
            "text/plain": [
              "0    4384\n",
              "1     511\n",
              "Name: Securities Account, dtype: int64"
            ]
          },
          "metadata": {
            "tags": []
          },
          "execution_count": 126
        }
      ]
    },
    {
      "cell_type": "code",
      "metadata": {
        "id": "4t36bpgshBNU",
        "colab_type": "code",
        "colab": {
          "base_uri": "https://localhost:8080/",
          "height": 70
        },
        "outputId": "67f97df9-18cb-4301-95c4-97b63c430faa"
      },
      "source": [
        "#CD Account\n",
        "dataframe['CD Account'].value_counts()"
      ],
      "execution_count": 127,
      "outputs": [
        {
          "output_type": "execute_result",
          "data": {
            "text/plain": [
              "0    4613\n",
              "1     282\n",
              "Name: CD Account, dtype: int64"
            ]
          },
          "metadata": {
            "tags": []
          },
          "execution_count": 127
        }
      ]
    },
    {
      "cell_type": "code",
      "metadata": {
        "id": "CVNAJrqghG9V",
        "colab_type": "code",
        "colab": {
          "base_uri": "https://localhost:8080/",
          "height": 318
        },
        "outputId": "19512e73-56d9-48c2-c649-9597f4dec3a4"
      },
      "source": [
        "#Viewing the pie chart of this distribution\n",
        "fig = plt.figure()\n",
        "ax = fig.add_axes([0,0,1,1])\n",
        "ax.axis('equal')\n",
        "label = ['0:No','1:Yes']\n",
        "ax.pie(dataframe['CD Account'].value_counts(),labels=label,autopct='%1.2f%%')\n",
        "plt.show()"
      ],
      "execution_count": 128,
      "outputs": [
        {
          "output_type": "display_data",
          "data": {
            "image/png": "[encoded data removed]",
            "text/plain": [
              "<Figure size 432x288 with 1 Axes>"
            ]
          },
          "metadata": {
            "tags": []
          }
        }
      ]
    },
    {
      "cell_type": "code",
      "metadata": {
        "id": "VFQ75SYNhIXV",
        "colab_type": "code",
        "colab": {
          "base_uri": "https://localhost:8080/",
          "height": 264
        },
        "outputId": "b4c8e6df-b8dc-4b55-c394-468a9ca9a060"
      },
      "source": [
        "#Viewing the Bar Chart of this distribution\n",
        "plt.bar(label,dataframe['CD Account'].value_counts())\n",
        "plt.show()"
      ],
      "execution_count": 129,
      "outputs": [
        {
          "output_type": "display_data",
          "data": {
            "image/png": "[encoded data removed]",
            "text/plain": [
              "<Figure size 432x288 with 1 Axes>"
            ]
          },
          "metadata": {
            "tags": [],
            "needs_background": "light"
          }
        }
      ]
    },
    {
      "cell_type": "code",
      "metadata": {
        "id": "KBlJVoQwhPDC",
        "colab_type": "code",
        "colab": {
          "base_uri": "https://localhost:8080/",
          "height": 70
        },
        "outputId": "372199f0-90c8-446a-9028-d2faea4710dc"
      },
      "source": [
        "dataframe.Online.value_counts()"
      ],
      "execution_count": 130,
      "outputs": [
        {
          "output_type": "execute_result",
          "data": {
            "text/plain": [
              "1    2920\n",
              "0    1975\n",
              "Name: Online, dtype: int64"
            ]
          },
          "metadata": {
            "tags": []
          },
          "execution_count": 130
        }
      ]
    },
    {
      "cell_type": "code",
      "metadata": {
        "id": "G4qeKeOUhQih",
        "colab_type": "code",
        "colab": {
          "base_uri": "https://localhost:8080/",
          "height": 318
        },
        "outputId": "aa0380ea-4901-46b8-d2bc-f48afc657ec7"
      },
      "source": [
        "#Viewing the Pie Chart Representation of this data.\n",
        "fig = plt.figure()\n",
        "ax = fig.add_axes([0,0,1,1])\n",
        "ax.axis('equal')\n",
        "label = ['1:Yes','0:No']\n",
        "ax.pie(dataframe['Online'].value_counts(),labels=label,autopct='%1.2f%%')\n",
        "plt.show()"
      ],
      "execution_count": 131,
      "outputs": [
        {
          "output_type": "display_data",
          "data": {
            "image/png": "[encoded data removed]",
            "text/plain": [
              "<Figure size 432x288 with 1 Axes>"
            ]
          },
          "metadata": {
            "tags": []
          }
        }
      ]
    },
    {
      "cell_type": "code",
      "metadata": {
        "id": "WySbvvWhhYbu",
        "colab_type": "code",
        "colab": {
          "base_uri": "https://localhost:8080/",
          "height": 264
        },
        "outputId": "9b399758-fb5b-46f8-c3b6-a0f7ecdb5c15"
      },
      "source": [
        "#Viewing the bar chart representation of this data\n",
        "plt.bar(label, dataframe['Online'].value_counts())\n",
        "plt.show()"
      ],
      "execution_count": 132,
      "outputs": [
        {
          "output_type": "display_data",
          "data": {
            "image/png": "[encoded data removed]",
            "text/plain": [
              "<Figure size 432x288 with 1 Axes>"
            ]
          },
          "metadata": {
            "tags": [],
            "needs_background": "light"
          }
        }
      ]
    },
    {
      "cell_type": "code",
      "metadata": {
        "id": "fuI2EbAehej1",
        "colab_type": "code",
        "colab": {
          "base_uri": "https://localhost:8080/",
          "height": 70
        },
        "outputId": "4201152b-a8e4-4ce2-c685-eb904e12be5f"
      },
      "source": [
        "#Credit Card\n",
        "dataframe['CreditCard'].value_counts()"
      ],
      "execution_count": 133,
      "outputs": [
        {
          "output_type": "execute_result",
          "data": {
            "text/plain": [
              "0    3452\n",
              "1    1443\n",
              "Name: CreditCard, dtype: int64"
            ]
          },
          "metadata": {
            "tags": []
          },
          "execution_count": 133
        }
      ]
    },
    {
      "cell_type": "code",
      "metadata": {
        "id": "UHVi3EsZhh8A",
        "colab_type": "code",
        "colab": {
          "base_uri": "https://localhost:8080/",
          "height": 318
        },
        "outputId": "4ac5cc88-8a56-48c1-b274-5d00e9609792"
      },
      "source": [
        "#Viewing the Pie Chart Representation of this data.\n",
        "fig = plt.figure()\n",
        "ax = fig.add_axes([0,0,1,1])\n",
        "ax.axis('equal')\n",
        "label = ['0:No','1:Yes']\n",
        "ax.pie(dataframe['CreditCard'].value_counts(),labels=label,autopct='%1.2f%%')\n",
        "plt.show()"
      ],
      "execution_count": 134,
      "outputs": [
        {
          "output_type": "display_data",
          "data": {
            "image/png": "[encoded data removed]",
            "text/plain": [
              "<Figure size 432x288 with 1 Axes>"
            ]
          },
          "metadata": {
            "tags": []
          }
        }
      ]
    },
    {
      "cell_type": "code",
      "metadata": {
        "id": "Pd3HXHKGhjGQ",
        "colab_type": "code",
        "colab": {
          "base_uri": "https://localhost:8080/",
          "height": 264
        },
        "outputId": "82727bb9-c746-49a7-abeb-7784169f8d0f"
      },
      "source": [
        "#Viewing Bar Chart Representation of this data\n",
        "plt.bar(label, dataframe['CreditCard'].value_counts())\n",
        "plt.show()"
      ],
      "execution_count": 135,
      "outputs": [
        {
          "output_type": "display_data",
          "data": {
            "image/png": "[encoded data removed]",
            "text/plain": [
              "<Figure size 432x288 with 1 Axes>"
            ]
          },
          "metadata": {
            "tags": [],
            "needs_background": "light"
          }
        }
      ]
    },
    {
      "cell_type": "code",
      "metadata": {
        "id": "-3j3EadZhpZu",
        "colab_type": "code",
        "colab": {
          "base_uri": "https://localhost:8080/",
          "height": 278
        },
        "outputId": "bec52a2e-c146-4795-d16f-0f76235b949a"
      },
      "source": [
        "#Unvariant Analysis\n",
        "\n",
        "\n",
        "sns.distplot(dataframe.Income);"
      ],
      "execution_count": 136,
      "outputs": [
        {
          "output_type": "display_data",
          "data": {
            "image/png": "[encoded data removed]",
            "text/plain": [
              "<Figure size 432x288 with 1 Axes>"
            ]
          },
          "metadata": {
            "tags": [],
            "needs_background": "light"
          }
        }
      ]
    },
    {
      "cell_type": "code",
      "metadata": {
        "id": "CnUpWSs5hucY",
        "colab_type": "code",
        "colab": {
          "base_uri": "https://localhost:8080/",
          "height": 278
        },
        "outputId": "4ffd56e3-056a-4a4e-b3ec-38c54a7c935f"
      },
      "source": [
        "#univariant analysis on mortgage\n",
        "sns.distplot(dataframe.Mortgage);"
      ],
      "execution_count": 137,
      "outputs": [
        {
          "output_type": "display_data",
          "data": {
            "image/png": "[encoded data removed]",
            "text/plain": [
              "<Figure size 432x288 with 1 Axes>"
            ]
          },
          "metadata": {
            "tags": [],
            "needs_background": "light"
          }
        }
      ]
    },
    {
      "cell_type": "code",
      "metadata": {
        "id": "waiYyZMOh22A",
        "colab_type": "code",
        "colab": {
          "base_uri": "https://localhost:8080/",
          "height": 406
        },
        "outputId": "51065842-7721-4ced-b94a-eae310c5c23f"
      },
      "source": [
        "#uisng cmap as BrBG\n",
        "plt.figure(figsize=(10,5))\n",
        "\n",
        "sns.heatmap(dataframe.corr(),cmap=\"BrBG\",annot = True);"
      ],
      "execution_count": 138,
      "outputs": [
        {
          "output_type": "display_data",
          "data": {
            "image/png": "[encoded data removed]",
            "text/plain": [
              "<Figure size 720x360 with 2 Axes>"
            ]
          },
          "metadata": {
            "tags": [],
            "needs_background": "light"
          }
        }
      ]
    },
    {
      "cell_type": "code",
      "metadata": {
        "id": "SvSNGfNs6HG6",
        "colab_type": "code",
        "colab": {
          "base_uri": "https://localhost:8080/",
          "height": 453
        },
        "outputId": "8f44a48f-1606-41bd-84de-85bb74a68eda"
      },
      "source": [
        "#Categorical Independent Variable vs Target Variable\n",
        "\n",
        "\n",
        "\n",
        "edu=tm.crosstab(dataframe['Education'],dataframe['Personal Loan'])\n",
        "edu.div(edu.sum(1).astype(float),axis=0).plot(kind='bar',stacked=True)\n",
        "print('table can be given as:',edu)\n",
        "print('Percentage of table:',edu.div(edu.sum(1).astype(float),axis=0))"
      ],
      "execution_count": 47,
      "outputs": [
        {
          "output_type": "stream",
          "text": [
            "table can be given as: Personal Loan     0    1\n",
            "Education               \n",
            "1              2003   93\n",
            "2              1221  182\n",
            "3              1296  205\n",
            "Percentage of table: Personal Loan         0         1\n",
            "Education                        \n",
            "1              0.955630  0.044370\n",
            "2              0.870278  0.129722\n",
            "3              0.863424  0.136576\n"
          ],
          "name": "stdout"
        },
        {
          "output_type": "display_data",
          "data": {
            "image/png": "[encoded data removed]",
            "text/plain": [
              "<Figure size 432x288 with 1 Axes>"
            ]
          },
          "metadata": {
            "tags": [],
            "needs_background": "light"
          }
        }
      ]
    },
    {
      "cell_type": "markdown",
      "metadata": {
        "id": "ouaJ95_Xjn1y",
        "colab_type": "text"
      },
      "source": [
        "From the above plots, we can infer that customers who are more educated have a higher probability of buying personal loans. Hence our hypothesis was true."
      ]
    },
    {
      "cell_type": "code",
      "metadata": {
        "id": "DcHKPo9r6L19",
        "colab_type": "code",
        "colab": {
          "base_uri": "https://localhost:8080/",
          "height": 488
        },
        "outputId": "879c5ce5-12f1-4eab-c92c-f2140b940ae6"
      },
      "source": [
        "#plot between personal loan and family\n",
        "\n",
        "\n",
        "family=tm.crosstab(dataframe['Family'],dataframe['Personal Loan'])\n",
        "family.div(family.sum(1).astype(float),axis=0).plot(kind='bar',stacked=True)\n",
        "print('table can be given as:',family)\n",
        "print('Percentage of table:',family.div(family.sum(1).astype(float),axis=0))"
      ],
      "execution_count": 48,
      "outputs": [
        {
          "output_type": "stream",
          "text": [
            "table can be given as: Personal Loan     0    1\n",
            "Family                  \n",
            "1              1365  107\n",
            "2              1190  106\n",
            "3               877  133\n",
            "4              1088  134\n",
            "Percentage of table: Personal Loan         0         1\n",
            "Family                           \n",
            "1              0.927310  0.072690\n",
            "2              0.918210  0.081790\n",
            "3              0.868317  0.131683\n",
            "4              0.890344  0.109656\n"
          ],
          "name": "stdout"
        },
        {
          "output_type": "display_data",
          "data": {
            "image/png": "[encoded data removed]",
            "text/plain": [
              "<Figure size 432x288 with 1 Axes>"
            ]
          },
          "metadata": {
            "tags": [],
            "needs_background": "light"
          }
        }
      ]
    },
    {
      "cell_type": "markdown",
      "metadata": {
        "id": "W3w6pVQyj1KO",
        "colab_type": "text"
      },
      "source": [
        "The number of family members not significantly affect probability. Hence it contradicts our hypothesis that the number of family members will affect the probability."
      ]
    },
    {
      "cell_type": "code",
      "metadata": {
        "id": "CmZLa_Co6RoT",
        "colab_type": "code",
        "colab": {
          "base_uri": "https://localhost:8080/",
          "height": 417
        },
        "outputId": "216019b2-73e6-43e3-cc76-bd85df7236f2"
      },
      "source": [
        "#Compare personal loan who having CD Account\n",
        "\n",
        "credit=tm.crosstab(dataframe['CreditCard'],dataframe['Personal Loan'])\n",
        "credit.div(credit.sum(1).astype(float),axis=0).plot(kind='bar',stacked=True)\n",
        "print('table can be given as:',credit)\n",
        "print('Percentage of table:',credit.div(credit.sum(1).astype(float),axis=0))\n"
      ],
      "execution_count": 49,
      "outputs": [
        {
          "output_type": "stream",
          "text": [
            "table can be given as: Personal Loan     0    1\n",
            "CreditCard              \n",
            "0              3193  337\n",
            "1              1327  143\n",
            "Percentage of table: Personal Loan         0         1\n",
            "CreditCard                       \n",
            "0              0.904533  0.095467\n",
            "1              0.902721  0.097279\n"
          ],
          "name": "stdout"
        },
        {
          "output_type": "display_data",
          "data": {
            "image/png": "[encoded data removed]",
            "text/plain": [
              "<Figure size 432x288 with 1 Axes>"
            ]
          },
          "metadata": {
            "tags": [],
            "needs_background": "light"
          }
        }
      ]
    },
    {
      "cell_type": "markdown",
      "metadata": {
        "id": "94zvD1VlkHAE",
        "colab_type": "text"
      },
      "source": [
        "The customer who uses or doesn’t use a credit card issued by Bank doesn’t seem to affect the probability of buying a personal loan."
      ]
    },
    {
      "cell_type": "code",
      "metadata": {
        "id": "KAiM0FTX6Sfg",
        "colab_type": "code",
        "colab": {
          "base_uri": "https://localhost:8080/",
          "height": 417
        },
        "outputId": "ac3667d6-00ca-4164-d4b5-7d89db41730f"
      },
      "source": [
        "#Compare personal loan who having online banking\n",
        "\n",
        "online=tm.crosstab(dataframe['Online'],dataframe['Personal Loan'])\n",
        "online.div(online.sum(1).astype(float),axis=0).plot(kind='bar',stacked=True)\n",
        "print('table can be given as:',online)\n",
        "print('Percentage of table:',online.div(online.sum(1).astype(float),axis=0))"
      ],
      "execution_count": 50,
      "outputs": [
        {
          "output_type": "stream",
          "text": [
            "table can be given as: Personal Loan     0    1\n",
            "Online                  \n",
            "0              1827  189\n",
            "1              2693  291\n",
            "Percentage of table: Personal Loan        0        1\n",
            "Online                         \n",
            "0              0.90625  0.09375\n",
            "1              0.90248  0.09752\n"
          ],
          "name": "stdout"
        },
        {
          "output_type": "display_data",
          "data": {
            "image/png": "[encoded data removed]",
            "text/plain": [
              "<Figure size 432x288 with 1 Axes>"
            ]
          },
          "metadata": {
            "tags": [],
            "needs_background": "light"
          }
        }
      ]
    },
    {
      "cell_type": "markdown",
      "metadata": {
        "id": "dGMbZm2ZkPp7",
        "colab_type": "text"
      },
      "source": [
        "The customer who uses or doesn’t use internet banking facilities seems to not affect the probability of buying personal loans."
      ]
    },
    {
      "cell_type": "code",
      "metadata": {
        "id": "zfOJ9JOz6WbO",
        "colab_type": "code",
        "colab": {
          "base_uri": "https://localhost:8080/",
          "height": 417
        },
        "outputId": "a83a7a7d-8111-41ba-8806-93d35e88cc48"
      },
      "source": [
        "#Compare personal loan who having Security acc\n",
        "\n",
        "sec=tm.crosstab(dataframe['Securities Account'],dataframe['Personal Loan'])\n",
        "sec.div(sec.sum(1).astype(float),axis=0).plot(kind='bar',stacked=True)\n",
        "print('table can be given as:',sec)\n",
        "print('Percentage of table:',sec.div(sec.sum(1).astype(float),axis=0))"
      ],
      "execution_count": 51,
      "outputs": [
        {
          "output_type": "stream",
          "text": [
            "table can be given as: Personal Loan          0    1\n",
            "Securities Account           \n",
            "0                   4058  420\n",
            "1                    462   60\n",
            "Percentage of table: Personal Loan              0         1\n",
            "Securities Account                    \n",
            "0                   0.906208  0.093792\n",
            "1                   0.885057  0.114943\n"
          ],
          "name": "stdout"
        },
        {
          "output_type": "display_data",
          "data": {
            "image/png": "[encoded data removed]",
            "text/plain": [
              "<Figure size 432x288 with 1 Axes>"
            ]
          },
          "metadata": {
            "tags": [],
            "needs_background": "light"
          }
        }
      ]
    },
    {
      "cell_type": "markdown",
      "metadata": {
        "id": "ihyrSQWtkVZ3",
        "colab_type": "text"
      },
      "source": [
        "The customers who have or don’t have securities account with the bank do not affect the probability of buying a personal loan."
      ]
    },
    {
      "cell_type": "code",
      "metadata": {
        "id": "2tQfci646csE",
        "colab_type": "code",
        "colab": {
          "base_uri": "https://localhost:8080/",
          "height": 293
        },
        "outputId": "a464bf18-ba17-4503-fc98-7d7b41f636fe"
      },
      "source": [
        "#Numerical Independent Variable vs Target Variable\n",
        "\n",
        "dataframe.groupby('Personal Loan')['Age'].mean().plot(kind='bar')"
      ],
      "execution_count": 52,
      "outputs": [
        {
          "output_type": "execute_result",
          "data": {
            "text/plain": [
              "<matplotlib.axes._subplots.AxesSubplot at 0x7f920ac0e710>"
            ]
          },
          "metadata": {
            "tags": []
          },
          "execution_count": 52
        },
        {
          "output_type": "display_data",
          "data": {
            "image/png": "[encoded data removed]",
            "text/plain": [
              "<Figure size 432x288 with 1 Axes>"
            ]
          },
          "metadata": {
            "tags": [],
            "needs_background": "light"
          }
        }
      ]
    },
    {
      "cell_type": "markdown",
      "metadata": {
        "id": "uWG9yT4pklOg",
        "colab_type": "text"
      },
      "source": [
        "Above the y-axis represents the mean applicant age. We don’t see any change in the mean age."
      ]
    },
    {
      "cell_type": "markdown",
      "metadata": {
        "id": "aH0SC_Lek1FY",
        "colab_type": "text"
      },
      "source": [
        "let’s make bins for the applicant age variable based on the values in it and analyze the corresponding loan status for each bin."
      ]
    },
    {
      "cell_type": "code",
      "metadata": {
        "id": "MsTpz3nmWMqL",
        "colab_type": "code",
        "colab": {
          "base_uri": "https://localhost:8080/",
          "height": 322
        },
        "outputId": "3b5f791e-5a5e-4923-e1dd-723dfb68b819"
      },
      "source": [
        "#We don’t see any change in the mean age. \n",
        "#So, let’s make bins for the applicant age variable based on the values in it and analyze the corresponding loan status for each bin. \n",
        "\n",
        "\n",
        "bins=[25,35,45,55,65]\n",
        "group=['Young','Youth','middle','old']\n",
        "dataframe['Age_bin']=tm.cut(dataframe['Age'],bins,labels=group)       #converting numeric to catagorical\n",
        "age=tm.crosstab(dataframe['Age_bin'],dataframe['Personal Loan'])\n",
        "age.div(age.sum(1).astype(float),axis=0).plot(kind='bar',stacked=True)"
      ],
      "execution_count": 32,
      "outputs": [
        {
          "output_type": "execute_result",
          "data": {
            "text/plain": [
              "<matplotlib.axes._subplots.AxesSubplot at 0x7f920afcf898>"
            ]
          },
          "metadata": {
            "tags": []
          },
          "execution_count": 32
        },
        {
          "output_type": "display_data",
          "data": {
            "image/png": "[encoded data removed]",
            "text/plain": [
              "<Figure size 432x288 with 1 Axes>"
            ]
          },
          "metadata": {
            "tags": [],
            "needs_background": "light"
          }
        }
      ]
    },
    {
      "cell_type": "markdown",
      "metadata": {
        "id": "nO9tw5eklBfJ",
        "colab_type": "text"
      },
      "source": [
        "The Applicant age does not affect the chances of buying the personal loan."
      ]
    },
    {
      "cell_type": "code",
      "metadata": {
        "id": "DzXRta5-6iYK",
        "colab_type": "code",
        "colab": {
          "base_uri": "https://localhost:8080/",
          "height": 293
        },
        "outputId": "e0cd31d8-4eea-4580-b6c2-a635162e7193"
      },
      "source": [
        "#Personal Loan Avg spending on credit card per month\n",
        "\n",
        "dataframe.groupby('Personal Loan')['CCAvg'].mean().plot(kind='bar')"
      ],
      "execution_count": 53,
      "outputs": [
        {
          "output_type": "execute_result",
          "data": {
            "text/plain": [
              "<matplotlib.axes._subplots.AxesSubplot at 0x7f9207aeab38>"
            ]
          },
          "metadata": {
            "tags": []
          },
          "execution_count": 53
        },
        {
          "output_type": "display_data",
          "data": {
            "image/png": "[encoded data removed]",
            "text/plain": [
              "<Figure size 432x288 with 1 Axes>"
            ]
          },
          "metadata": {
            "tags": [],
            "needs_background": "light"
          }
        }
      ]
    },
    {
      "cell_type": "markdown",
      "metadata": {
        "id": "ZYOC3nHKlSkh",
        "colab_type": "text"
      },
      "source": [
        "It can be clearly seen that applicants who spend more on credit cards are more viable to buy personal loans."
      ]
    },
    {
      "cell_type": "code",
      "metadata": {
        "id": "wKuKTypI6pdd",
        "colab_type": "code",
        "colab": {
          "base_uri": "https://localhost:8080/",
          "height": 293
        },
        "outputId": "85c3a513-c0c8-4eb3-dcec-64d827adfc11"
      },
      "source": [
        "#Income of a customer\n",
        "\n",
        "dataframe.groupby('Personal Loan')['Income'].mean().plot(kind='bar')"
      ],
      "execution_count": 54,
      "outputs": [
        {
          "output_type": "execute_result",
          "data": {
            "text/plain": [
              "<matplotlib.axes._subplots.AxesSubplot at 0x7f9207a58390>"
            ]
          },
          "metadata": {
            "tags": []
          },
          "execution_count": 54
        },
        {
          "output_type": "display_data",
          "data": {
            "image/png": "[encoded data removed]",
            "text/plain": [
              "<Figure size 432x288 with 1 Axes>"
            ]
          },
          "metadata": {
            "tags": [],
            "needs_background": "light"
          }
        }
      ]
    },
    {
      "cell_type": "markdown",
      "metadata": {
        "id": "tPPUT-C7lhnX",
        "colab_type": "text"
      },
      "source": [
        "It can be clearly seen that the customers with high incomes are more feasible to buy the personal loan."
      ]
    },
    {
      "cell_type": "code",
      "metadata": {
        "id": "DS0fmRvr6qof",
        "colab_type": "code",
        "colab": {
          "base_uri": "https://localhost:8080/",
          "height": 293
        },
        "outputId": "9a202d58-fe68-4771-fc68-6624c5dfcd47"
      },
      "source": [
        "#customer with high incomes\n",
        "\n",
        "dataframe.groupby('Personal Loan')['Income'].mean().plot(kind='bar')"
      ],
      "execution_count": 55,
      "outputs": [
        {
          "output_type": "execute_result",
          "data": {
            "text/plain": [
              "<matplotlib.axes._subplots.AxesSubplot at 0x7f9207a22cf8>"
            ]
          },
          "metadata": {
            "tags": []
          },
          "execution_count": 55
        },
        {
          "output_type": "display_data",
          "data": {
            "image/png": "[encoded data removed]",
            "text/plain": [
              "<Figure size 432x288 with 1 Axes>"
            ]
          },
          "metadata": {
            "tags": [],
            "needs_background": "light"
          }
        }
      ]
    },
    {
      "cell_type": "markdown",
      "metadata": {
        "id": "71QSfmM66yY-",
        "colab_type": "text"
      },
      "source": [
        "‘Experience’ is highly correlated with ‘Age’(ρ = 0.994214857)\n",
        "\n"
      ]
    },
    {
      "cell_type": "code",
      "metadata": {
        "id": "TCOluzSd6uLt",
        "colab_type": "code",
        "colab": {
          "base_uri": "https://localhost:8080/",
          "height": 283
        },
        "outputId": "58a16a45-e1b6-43ba-df18-a23b990e0e81"
      },
      "source": [
        "#Missing Value and Outlier Treatment\n",
        "\n",
        "#Rechecking whether missing value is there\n",
        "\n",
        "dataframe.isnull().sum()"
      ],
      "execution_count": 56,
      "outputs": [
        {
          "output_type": "execute_result",
          "data": {
            "text/plain": [
              "ID                    0\n",
              "Age                   0\n",
              "Experience            0\n",
              "Income                0\n",
              "ZIP Code              0\n",
              "Family                0\n",
              "CCAvg                 0\n",
              "Education             0\n",
              "Mortgage              0\n",
              "Personal Loan         0\n",
              "Securities Account    0\n",
              "CD Account            0\n",
              "Online                0\n",
              "CreditCard            0\n",
              "dtype: int64"
            ]
          },
          "metadata": {
            "tags": []
          },
          "execution_count": 56
        }
      ]
    },
    {
      "cell_type": "markdown",
      "metadata": {
        "id": "GW9uRtqJl1eq",
        "colab_type": "text"
      },
      "source": [
        "We are much sure now that there are no missing values."
      ]
    },
    {
      "cell_type": "code",
      "metadata": {
        "id": "HjRGlXTX7AfX",
        "colab_type": "code",
        "colab": {}
      },
      "source": [
        "#Outlier Treatment\n",
        "\n",
        "from scipy import stats\n",
        "\n",
        "dataframe['Mortgage_zscore']=np.abs(stats.zscore(dataframe['Mortgage']))\n",
        "dataframe=dataframe[dataframe['Mortgage_zscore']<3]\n",
        "dataframe.drop('Mortgage_zscore',axis=1,inplace=True)"
      ],
      "execution_count": 57,
      "outputs": []
    },
    {
      "cell_type": "markdown",
      "metadata": {
        "id": "j0VSXy5AmHUt",
        "colab_type": "text"
      },
      "source": [
        "Here I had chosen those rows only whose z_score is less than 3, it can vary accordingly. Here we had dropped more than 100+ rows which contain outliers."
      ]
    },
    {
      "cell_type": "code",
      "metadata": {
        "id": "ISsE3gys7Doc",
        "colab_type": "code",
        "colab": {
          "base_uri": "https://localhost:8080/",
          "height": 34
        },
        "outputId": "8bae3791-0fb6-4558-ed09-0d7e310fe10f"
      },
      "source": [
        "dataframe.shape"
      ],
      "execution_count": 58,
      "outputs": [
        {
          "output_type": "execute_result",
          "data": {
            "text/plain": [
              "(4895, 14)"
            ]
          },
          "metadata": {
            "tags": []
          },
          "execution_count": 58
        }
      ]
    },
    {
      "cell_type": "code",
      "metadata": {
        "id": "ScQXTTdY7J0d",
        "colab_type": "code",
        "colab": {}
      },
      "source": [
        "\n",
        "#Model Building: Logistic Regression\n",
        "\n",
        "from sklearn.model_selection import train_test_split                         #importing lib for splitting data\n",
        "from sklearn.linear_model import LogisticRegression                           #importing model\n",
        "from sklearn.metrics import accuracy_score\n",
        "from sklearn.metrics import classification_report\n",
        "from sklearn.metrics import confusion_matrix\n",
        "from sklearn.metrics import roc_curve,auc"
      ],
      "execution_count": 59,
      "outputs": []
    },
    {
      "cell_type": "code",
      "metadata": {
        "id": "En18Z9r4iNlX",
        "colab_type": "code",
        "colab": {}
      },
      "source": [
        "dataframe.drop('ID',axis=1,inplace=True)\n",
        "dataframe.drop('Experience',axis=1,inplace=True)\n",
        "dataframe.drop('ZIP Code',axis=1,inplace=True)\n"
      ],
      "execution_count": 60,
      "outputs": []
    },
    {
      "cell_type": "code",
      "metadata": {
        "id": "2us__lbi7WiW",
        "colab_type": "code",
        "colab": {}
      },
      "source": [
        "X=dataframe.drop('Personal Loan',axis=1)                                                     #set of independent variables\n",
        "Y=dataframe['Personal Loan']                                                                 #set of dependent variable\n",
        "\n",
        "X_train,X_test,Y_train,Y_test=train_test_split(X,Y,stratify=Y,random_state=1)                                  #spliting data"
      ],
      "execution_count": 61,
      "outputs": []
    },
    {
      "cell_type": "code",
      "metadata": {
        "id": "7XSE1zUe7Ly2",
        "colab_type": "code",
        "colab": {
          "base_uri": "https://localhost:8080/",
          "height": 247
        },
        "outputId": "bb07b2d4-af12-45f9-cb9a-d87940073f04"
      },
      "source": [
        "LogReg_model=LogisticRegression()\n",
        "LogReg_model.fit(X_train,Y_train)"
      ],
      "execution_count": 62,
      "outputs": [
        {
          "output_type": "stream",
          "text": [
            "/usr/local/lib/python3.6/dist-packages/sklearn/linear_model/_logistic.py:940: ConvergenceWarning: lbfgs failed to converge (status=1):\n",
            "STOP: TOTAL NO. of ITERATIONS REACHED LIMIT.\n",
            "\n",
            "Increase the number of iterations (max_iter) or scale the data as shown in:\n",
            "    https://scikit-learn.org/stable/modules/preprocessing.html\n",
            "Please also refer to the documentation for alternative solver options:\n",
            "    https://scikit-learn.org/stable/modules/linear_model.html#logistic-regression\n",
            "  extra_warning_msg=_LOGISTIC_SOLVER_CONVERGENCE_MSG)\n"
          ],
          "name": "stderr"
        },
        {
          "output_type": "execute_result",
          "data": {
            "text/plain": [
              "LogisticRegression(C=1.0, class_weight=None, dual=False, fit_intercept=True,\n",
              "                   intercept_scaling=1, l1_ratio=None, max_iter=100,\n",
              "                   multi_class='auto', n_jobs=None, penalty='l2',\n",
              "                   random_state=None, solver='lbfgs', tol=0.0001, verbose=0,\n",
              "                   warm_start=False)"
            ]
          },
          "metadata": {
            "tags": []
          },
          "execution_count": 62
        }
      ]
    },
    {
      "cell_type": "code",
      "metadata": {
        "id": "uRIyhdXP77Ug",
        "colab_type": "code",
        "colab": {
          "base_uri": "https://localhost:8080/",
          "height": 230
        },
        "outputId": "c51dac02-4ee5-404e-badf-1013f3529309"
      },
      "source": [
        "Y_pred=LogReg_model.predict(X_test)\n",
        "print(classification_report(Y_test,Y_pred))\n",
        "print(accuracy_score(Y_test,Y_pred))\n",
        "print(confusion_matrix(Y_test,Y_pred))"
      ],
      "execution_count": 63,
      "outputs": [
        {
          "output_type": "stream",
          "text": [
            "              precision    recall  f1-score   support\n",
            "\n",
            "           0       0.96      0.98      0.97      1116\n",
            "           1       0.79      0.59      0.68       108\n",
            "\n",
            "    accuracy                           0.95      1224\n",
            "   macro avg       0.88      0.79      0.83      1224\n",
            "weighted avg       0.95      0.95      0.95      1224\n",
            "\n",
            "0.9501633986928104\n",
            "[[1099   17]\n",
            " [  44   64]]\n"
          ],
          "name": "stdout"
        }
      ]
    },
    {
      "cell_type": "code",
      "metadata": {
        "id": "hOK-ay0478qg",
        "colab_type": "code",
        "colab": {
          "base_uri": "https://localhost:8080/",
          "height": 34
        },
        "outputId": "a5cfea10-42e2-4f36-f84f-1e388b8c128a"
      },
      "source": [
        "LogReg_prob=LogReg_model.predict_proba(X_test)\n",
        "fpr1,tpr1,thresholds1=roc_curve(Y_test,LogReg_prob[:,1])\n",
        "roc_auc1=auc(fpr1,tpr1)\n",
        "print(\"Area under The rOC curve :%f\"  % roc_auc1)"
      ],
      "execution_count": 64,
      "outputs": [
        {
          "output_type": "stream",
          "text": [
            "Area under The rOC curve :0.948352\n"
          ],
          "name": "stdout"
        }
      ]
    },
    {
      "cell_type": "code",
      "metadata": {
        "id": "JrQbGne88EjD",
        "colab_type": "code",
        "colab": {}
      },
      "source": [
        "#STANDARDIZATION\n",
        "\n",
        "from sklearn import preprocessing\n",
        "\n",
        "col_names=dataframe.columns                                                              #getting col names\n",
        "scaler=preprocessing.StandardScaler()                                                    #scalar obj\n",
        "scaled_X_train=scaler.fit_transform(X_train)\n",
        "scaled_X_test=scaler.fit_transform(X_test)\n"
      ],
      "execution_count": 65,
      "outputs": []
    },
    {
      "cell_type": "code",
      "metadata": {
        "id": "Abxa8yDy8OQv",
        "colab_type": "code",
        "colab": {
          "base_uri": "https://localhost:8080/",
          "height": 247
        },
        "outputId": "2721a92e-b632-4214-ffdd-316145495ea3"
      },
      "source": [
        "LogReg_model=LogisticRegression()                                                         #fitting\n",
        "LogReg_model.fit(X_train,Y_train)"
      ],
      "execution_count": 66,
      "outputs": [
        {
          "output_type": "stream",
          "text": [
            "/usr/local/lib/python3.6/dist-packages/sklearn/linear_model/_logistic.py:940: ConvergenceWarning: lbfgs failed to converge (status=1):\n",
            "STOP: TOTAL NO. of ITERATIONS REACHED LIMIT.\n",
            "\n",
            "Increase the number of iterations (max_iter) or scale the data as shown in:\n",
            "    https://scikit-learn.org/stable/modules/preprocessing.html\n",
            "Please also refer to the documentation for alternative solver options:\n",
            "    https://scikit-learn.org/stable/modules/linear_model.html#logistic-regression\n",
            "  extra_warning_msg=_LOGISTIC_SOLVER_CONVERGENCE_MSG)\n"
          ],
          "name": "stderr"
        },
        {
          "output_type": "execute_result",
          "data": {
            "text/plain": [
              "LogisticRegression(C=1.0, class_weight=None, dual=False, fit_intercept=True,\n",
              "                   intercept_scaling=1, l1_ratio=None, max_iter=100,\n",
              "                   multi_class='auto', n_jobs=None, penalty='l2',\n",
              "                   random_state=None, solver='lbfgs', tol=0.0001, verbose=0,\n",
              "                   warm_start=False)"
            ]
          },
          "metadata": {
            "tags": []
          },
          "execution_count": 66
        }
      ]
    },
    {
      "cell_type": "code",
      "metadata": {
        "id": "rNIDmTno_cmB",
        "colab_type": "code",
        "colab": {
          "base_uri": "https://localhost:8080/",
          "height": 230
        },
        "outputId": "f594c635-3c1b-4cb7-abcb-86d62fcc811d"
      },
      "source": [
        "Y_Pred=LogReg_model.predict(X_test)\n",
        "print(classification_report(Y_test,Y_pred))\n",
        "print(accuracy_score(Y_test,Y_pred))\n",
        "print(confusion_matrix(Y_test,Y_pred))"
      ],
      "execution_count": 67,
      "outputs": [
        {
          "output_type": "stream",
          "text": [
            "              precision    recall  f1-score   support\n",
            "\n",
            "           0       0.96      0.98      0.97      1116\n",
            "           1       0.79      0.59      0.68       108\n",
            "\n",
            "    accuracy                           0.95      1224\n",
            "   macro avg       0.88      0.79      0.83      1224\n",
            "weighted avg       0.95      0.95      0.95      1224\n",
            "\n",
            "0.9501633986928104\n",
            "[[1099   17]\n",
            " [  44   64]]\n"
          ],
          "name": "stdout"
        }
      ]
    },
    {
      "cell_type": "code",
      "metadata": {
        "id": "3Uk1VUJO_fzO",
        "colab_type": "code",
        "colab": {
          "base_uri": "https://localhost:8080/",
          "height": 34
        },
        "outputId": "0eb7c8a9-b9c3-4eae-ef16-b06bb467054f"
      },
      "source": [
        "Log_Reg_prob=LogReg_model.predict_proba(scaled_X_test)\n",
        "fpr2,tpr2,thresholds2=roc_curve(Y_test,Log_Reg_prob[:,1])\n",
        "roc_auc2=auc(fpr2,tpr2)\n",
        "print(\"Area under The rOC curve :%f\"  % roc_auc2)"
      ],
      "execution_count": 68,
      "outputs": [
        {
          "output_type": "stream",
          "text": [
            "Area under The rOC curve :0.749278\n"
          ],
          "name": "stdout"
        }
      ]
    },
    {
      "cell_type": "code",
      "metadata": {
        "id": "Y6p3VGU2_nhS",
        "colab_type": "code",
        "colab": {
          "base_uri": "https://localhost:8080/",
          "height": 230
        },
        "outputId": "a22905f0-2d5b-4c34-e3d2-f17060cab93c"
      },
      "source": [
        "\n",
        "#Naive Bayes\n",
        "\n",
        "from sklearn.naive_bayes import GaussianNB\n",
        "\n",
        "naive_model=GaussianNB()\n",
        "naive_model.fit(scaled_X_train,Y_train)\n",
        "Y_pred=naive_model.predict(scaled_X_test)\n",
        "print(classification_report(Y_test,Y_pred))\n",
        "print(accuracy_score(Y_test,Y_pred))\n",
        "print(confusion_matrix(Y_test,Y_pred))\n"
      ],
      "execution_count": 69,
      "outputs": [
        {
          "output_type": "stream",
          "text": [
            "              precision    recall  f1-score   support\n",
            "\n",
            "           0       0.96      0.92      0.94      1116\n",
            "           1       0.42      0.57      0.48       108\n",
            "\n",
            "    accuracy                           0.89      1224\n",
            "   macro avg       0.69      0.75      0.71      1224\n",
            "weighted avg       0.91      0.89      0.90      1224\n",
            "\n",
            "0.8913398692810458\n",
            "[[1029   87]\n",
            " [  46   62]]\n"
          ],
          "name": "stdout"
        }
      ]
    },
    {
      "cell_type": "code",
      "metadata": {
        "id": "-_6IwLw1_vrQ",
        "colab_type": "code",
        "colab": {
          "base_uri": "https://localhost:8080/",
          "height": 34
        },
        "outputId": "b95d01f8-9017-471b-acdf-6ef869d80d1f"
      },
      "source": [
        "naive_prob=naive_model.predict_proba(scaled_X_test)\n",
        "fpr3,tpr3,thresholds3=roc_curve(Y_test,naive_prob[:,1])\n",
        "roc_auc3=auc(fpr3,tpr3)\n",
        "print(\"Area under The rOC curve :%f\"  % roc_auc3)"
      ],
      "execution_count": 139,
      "outputs": [
        {
          "output_type": "stream",
          "text": [
            "Area under The rOC curve :0.925818\n"
          ],
          "name": "stdout"
        }
      ]
    },
    {
      "cell_type": "markdown",
      "metadata": {
        "id": "wxSZJmE_oP8F",
        "colab_type": "text"
      },
      "source": [
        "We got an accuracy score of around 90%  which is much less as compared to the Logistic Regression.\n",
        "Also, the area under the curve is around 93%, less than the logistic regression one.\n",
        "Hence Naive Bayes terms out to be not a good classifier with this particular dataset"
      ]
    },
    {
      "cell_type": "code",
      "metadata": {
        "id": "EBd-L0VH_zVS",
        "colab_type": "code",
        "colab": {
          "base_uri": "https://localhost:8080/",
          "height": 230
        },
        "outputId": "6e4ca6f0-2d41-4e62-8f58-ca90cbeecbfc"
      },
      "source": [
        "#KNN \n",
        "\n",
        "from sklearn.neighbors import KNeighborsClassifier\n",
        "kNN_model=KNeighborsClassifier(n_neighbors=3)\n",
        "kNN_model.fit(scaled_X_train,Y_train)\n",
        "y_pred=kNN_model.predict(scaled_X_test)\n",
        "print(classification_report(Y_test,Y_pred))\n",
        "print(accuracy_score(Y_test,Y_pred))\n",
        "print(confusion_matrix(Y_test,Y_pred))\n",
        "  "
      ],
      "execution_count": 71,
      "outputs": [
        {
          "output_type": "stream",
          "text": [
            "              precision    recall  f1-score   support\n",
            "\n",
            "           0       0.96      0.92      0.94      1116\n",
            "           1       0.42      0.57      0.48       108\n",
            "\n",
            "    accuracy                           0.89      1224\n",
            "   macro avg       0.69      0.75      0.71      1224\n",
            "weighted avg       0.91      0.89      0.90      1224\n",
            "\n",
            "0.8913398692810458\n",
            "[[1029   87]\n",
            " [  46   62]]\n"
          ],
          "name": "stdout"
        }
      ]
    },
    {
      "cell_type": "code",
      "metadata": {
        "id": "PdwgQ3TxASgl",
        "colab_type": "code",
        "colab": {
          "base_uri": "https://localhost:8080/",
          "height": 34
        },
        "outputId": "153f6226-8f23-47f5-960d-8031bf542c54"
      },
      "source": [
        "kNN_prob=kNN_model.predict_proba(scaled_X_test)\n",
        "fpr4,tpr4,thresholds4=roc_curve(Y_test,kNN_prob[:,1])\n",
        "roc_auc4=auc(fpr4,tpr4)\n",
        "print(\"Area under The rOC curve :%f\"  % roc_auc4)"
      ],
      "execution_count": 72,
      "outputs": [
        {
          "output_type": "stream",
          "text": [
            "Area under The rOC curve :0.909693\n"
          ],
          "name": "stdout"
        }
      ]
    },
    {
      "cell_type": "markdown",
      "metadata": {
        "id": "vW67RD32o3pK",
        "colab_type": "text"
      },
      "source": [
        "The area under the curve is fairly good."
      ]
    },
    {
      "cell_type": "code",
      "metadata": {
        "id": "E0WVeLv8AYr7",
        "colab_type": "code",
        "colab": {
          "base_uri": "https://localhost:8080/",
          "height": 230
        },
        "outputId": "e22aacbb-cea5-423b-b228-9b7491fa5d7f"
      },
      "source": [
        "#SVM (Support Vector Machine)\n",
        "\n",
        "from sklearn import svm\n",
        "clf=svm.SVC(C=3,kernel='rbf',probability=True)\n",
        "clf.fit(scaled_X_train,Y_train)\n",
        "Y_pred=clf.predict(scaled_X_test)\n",
        "print(classification_report(Y_test,Y_pred))\n",
        "print(accuracy_score(Y_test,Y_pred))\n",
        "print(confusion_matrix(Y_test,Y_pred))"
      ],
      "execution_count": 73,
      "outputs": [
        {
          "output_type": "stream",
          "text": [
            "              precision    recall  f1-score   support\n",
            "\n",
            "           0       0.98      1.00      0.99      1116\n",
            "           1       0.96      0.81      0.87       108\n",
            "\n",
            "    accuracy                           0.98      1224\n",
            "   macro avg       0.97      0.90      0.93      1224\n",
            "weighted avg       0.98      0.98      0.98      1224\n",
            "\n",
            "0.9795751633986928\n",
            "[[1112    4]\n",
            " [  21   87]]\n"
          ],
          "name": "stdout"
        }
      ]
    },
    {
      "cell_type": "code",
      "metadata": {
        "id": "9NNhOaFaAiCI",
        "colab_type": "code",
        "colab": {
          "base_uri": "https://localhost:8080/",
          "height": 34
        },
        "outputId": "ea4f20b9-686b-47f5-8f4b-50d4311c482f"
      },
      "source": [
        "svm_prob=clf.predict_proba(scaled_X_test)\n",
        "fpr5,tpr5,thresholds5=roc_curve(Y_test,svm_prob[:,1])\n",
        "roc_auc5=auc(fpr5,tpr5)\n",
        "print(\"Area under The rOC curve :%f\"  % roc_auc5)"
      ],
      "execution_count": 74,
      "outputs": [
        {
          "output_type": "stream",
          "text": [
            "Area under The rOC curve :0.982867\n"
          ],
          "name": "stdout"
        }
      ]
    },
    {
      "cell_type": "markdown",
      "metadata": {
        "id": "Gwzlxwmkpupu",
        "colab_type": "text"
      },
      "source": [
        "We got 98% accuracy score with 81% recall value, also the area under the curve is about 98%.\n",
        "\n",
        "SVM can be deployed to predict the likelihood of a liability customer buying personal loans but we will look further if trees can predict better or not."
      ]
    },
    {
      "cell_type": "code",
      "metadata": {
        "id": "cyNEM6YWAlGM",
        "colab_type": "code",
        "colab": {
          "base_uri": "https://localhost:8080/",
          "height": 230
        },
        "outputId": "c6568bec-69cd-4532-d053-c41f71693d6a"
      },
      "source": [
        "#Decision Trees\n",
        "\n",
        "\n",
        "from sklearn.tree import DecisionTreeClassifier\n",
        "dec_tree_e=DecisionTreeClassifier(criterion='entropy',random_state=1)\n",
        "dec_tree_e.fit(scaled_X_train,Y_train)\n",
        "y_pred=dec_tree_e.predict(scaled_X_test)\n",
        "print(classification_report(Y_test,Y_pred))\n",
        "print(accuracy_score(Y_test,Y_pred))\n",
        "print(confusion_matrix(Y_test,Y_pred))\n"
      ],
      "execution_count": 75,
      "outputs": [
        {
          "output_type": "stream",
          "text": [
            "              precision    recall  f1-score   support\n",
            "\n",
            "           0       0.98      1.00      0.99      1116\n",
            "           1       0.96      0.81      0.87       108\n",
            "\n",
            "    accuracy                           0.98      1224\n",
            "   macro avg       0.97      0.90      0.93      1224\n",
            "weighted avg       0.98      0.98      0.98      1224\n",
            "\n",
            "0.9795751633986928\n",
            "[[1112    4]\n",
            " [  21   87]]\n"
          ],
          "name": "stdout"
        }
      ]
    },
    {
      "cell_type": "code",
      "metadata": {
        "id": "QCsrOdo6AmEP",
        "colab_type": "code",
        "colab": {
          "base_uri": "https://localhost:8080/",
          "height": 34
        },
        "outputId": "55261ce0-2321-4648-f916-76dacffb2dd7"
      },
      "source": [
        "dec_prob=dec_tree_e.predict_proba(scaled_X_test)\n",
        "fpr5,tpr5,thresholds5=roc_curve(Y_test,dec_prob[:,1])\n",
        "roc_auc5=auc(fpr5,tpr5)\n",
        "print(\"Area under The rOC curve :%f\"  % roc_auc5)"
      ],
      "execution_count": 76,
      "outputs": [
        {
          "output_type": "stream",
          "text": [
            "Area under The rOC curve :0.947282\n"
          ],
          "name": "stdout"
        }
      ]
    },
    {
      "cell_type": "markdown",
      "metadata": {
        "id": "oJy2y21GqFho",
        "colab_type": "text"
      },
      "source": [
        "We got a 98% accuracy score while 81% recall value but if you look at the AUC for decision trees, you will realize it is much smaller than SVM AUC."
      ]
    },
    {
      "cell_type": "code",
      "metadata": {
        "id": "6sxPyIhqAude",
        "colab_type": "code",
        "colab": {
          "base_uri": "https://localhost:8080/",
          "height": 230
        },
        "outputId": "0440926a-4dac-44d4-f104-daa1746bb284"
      },
      "source": [
        "#Decision tree with criterion ‘gini’ \n",
        "\n",
        "from sklearn.tree import DecisionTreeClassifier\n",
        "dec_tree_g=DecisionTreeClassifier(criterion='gini',random_state=1)\n",
        "dec_tree_g.fit(scaled_X_train,Y_train)\n",
        "y_pred=dec_tree_g.predict(scaled_X_test)\n",
        "print(classification_report(Y_test,Y_pred))\n",
        "print(accuracy_score(Y_test,Y_pred))\n",
        "print(confusion_matrix(Y_test,Y_pred))"
      ],
      "execution_count": 78,
      "outputs": [
        {
          "output_type": "stream",
          "text": [
            "              precision    recall  f1-score   support\n",
            "\n",
            "           0       0.98      1.00      0.99      1116\n",
            "           1       0.96      0.81      0.87       108\n",
            "\n",
            "    accuracy                           0.98      1224\n",
            "   macro avg       0.97      0.90      0.93      1224\n",
            "weighted avg       0.98      0.98      0.98      1224\n",
            "\n",
            "0.9795751633986928\n",
            "[[1112    4]\n",
            " [  21   87]]\n"
          ],
          "name": "stdout"
        }
      ]
    },
    {
      "cell_type": "code",
      "metadata": {
        "id": "fekLdDUwAxY4",
        "colab_type": "code",
        "colab": {
          "base_uri": "https://localhost:8080/",
          "height": 34
        },
        "outputId": "179ed5b8-9cae-4129-a678-c37757176e77"
      },
      "source": [
        "dec_prob=dec_tree_g.predict_proba(scaled_X_test)\n",
        "fpr5,tpr5,thresholds5=roc_curve(Y_test,dec_prob[:,1])\n",
        "roc_auc5=auc(fpr5,tpr5)\n",
        "print(\"Area under The rOC curve :%f\"  % roc_auc5)"
      ],
      "execution_count": 79,
      "outputs": [
        {
          "output_type": "stream",
          "text": [
            "Area under The rOC curve :0.947431\n"
          ],
          "name": "stdout"
        }
      ]
    },
    {
      "cell_type": "markdown",
      "metadata": {
        "id": "Y9WuRZzcqrL7",
        "colab_type": "text"
      },
      "source": [
        "We got a 98% accuracy score while an astonishing 92% recall value but the area under the ROC curve is much smaller in this case too.\n",
        "\n",
        "Decision tree nailed it."
      ]
    },
    {
      "cell_type": "code",
      "metadata": {
        "id": "12mDiiG3A1UZ",
        "colab_type": "code",
        "colab": {
          "base_uri": "https://localhost:8080/",
          "height": 34
        },
        "outputId": "90c76016-bce1-4449-ddbf-f509ecb18455"
      },
      "source": [
        "#For Decision Tree using creterion=entropy\n",
        "\n",
        "print(dec_tree_e.score(scaled_X_train,Y_train))\n"
      ],
      "execution_count": 81,
      "outputs": [
        {
          "output_type": "stream",
          "text": [
            "1.0\n"
          ],
          "name": "stdout"
        }
      ]
    },
    {
      "cell_type": "code",
      "metadata": {
        "id": "pTunsetZA5jE",
        "colab_type": "code",
        "colab": {
          "base_uri": "https://localhost:8080/",
          "height": 34
        },
        "outputId": "a1f35a54-aae0-4262-9a0e-381ea0329050"
      },
      "source": [
        "#For Decision Tree using creterion=gini\n",
        "\n",
        "print(dec_tree_g.score(scaled_X_train,Y_train))"
      ],
      "execution_count": 82,
      "outputs": [
        {
          "output_type": "stream",
          "text": [
            "1.0\n"
          ],
          "name": "stdout"
        }
      ]
    },
    {
      "cell_type": "code",
      "metadata": {
        "id": "gcIMpXXeA8V0",
        "colab_type": "code",
        "colab": {
          "base_uri": "https://localhost:8080/",
          "height": 34
        },
        "outputId": "46209402-f289-42ea-cef0-34c3dc80350d"
      },
      "source": [
        "#Combine Model Predictions into Ensemble Predictions\n",
        "\n",
        " #Bagged Decision Trees\n",
        "\n",
        "from sklearn.ensemble import BaggingClassifier\n",
        "bgc1=BaggingClassifier(base_estimator=dec_tree_e,n_estimators=250,max_samples=.7,oob_score=True,random_state=56)\n",
        "\n",
        "bgc1.fit(scaled_X_train,Y_train)\n",
        "print('The out of score is given by',bgc1.oob_score_)\n",
        "\n"
      ],
      "execution_count": 98,
      "outputs": [
        {
          "output_type": "stream",
          "text": [
            "The out of score is given by 0.9850177063470444\n"
          ],
          "name": "stdout"
        }
      ]
    },
    {
      "cell_type": "code",
      "metadata": {
        "id": "Ha4P_7NhCc8R",
        "colab_type": "code",
        "colab": {
          "base_uri": "https://localhost:8080/",
          "height": 230
        },
        "outputId": "5df3cd89-2fcc-4f1b-d9da-906e78ed741c"
      },
      "source": [
        "_y_pred=bgc1.predict(scaled_X_test)\n",
        "print(classification_report(Y_test,Y_pred))\n",
        "print(accuracy_score(Y_test,Y_pred))\n",
        "print(confusion_matrix(Y_test,Y_pred))\n",
        "\n"
      ],
      "execution_count": 103,
      "outputs": [
        {
          "output_type": "stream",
          "text": [
            "              precision    recall  f1-score   support\n",
            "\n",
            "           0       0.98      1.00      0.99      1116\n",
            "           1       0.96      0.81      0.87       108\n",
            "\n",
            "    accuracy                           0.98      1224\n",
            "   macro avg       0.97      0.90      0.93      1224\n",
            "weighted avg       0.98      0.98      0.98      1224\n",
            "\n",
            "0.9795751633986928\n",
            "[[1112    4]\n",
            " [  21   87]]\n"
          ],
          "name": "stdout"
        }
      ]
    },
    {
      "cell_type": "code",
      "metadata": {
        "id": "4M_qu-QgCx4i",
        "colab_type": "code",
        "colab": {
          "base_uri": "https://localhost:8080/",
          "height": 34
        },
        "outputId": "8d5e977f-2e84-4d02-c85c-b78b97ba788b"
      },
      "source": [
        "bgc1_prob=bgc1.predict_proba(scaled_X_test)\n",
        "fpr7,tpr7,thresholds7=roc_curve(Y_test,bgc1_prob[:,1])\n",
        "roc_auc7=auc(fpr7,tpr7)\n",
        "print(\"Area under The rOC curve :%f\"  % roc_auc7)"
      ],
      "execution_count": 105,
      "outputs": [
        {
          "output_type": "stream",
          "text": [
            "Area under The rOC curve :0.996602\n"
          ],
          "name": "stdout"
        }
      ]
    },
    {
      "cell_type": "markdown",
      "metadata": {
        "id": "tTVS-Cffr1-r",
        "colab_type": "text"
      },
      "source": [
        "We got 98% accuracy with 81% recall value which is smaller than DecisionTrees."
      ]
    },
    {
      "cell_type": "code",
      "metadata": {
        "id": "4eLPf2FvbVFo",
        "colab_type": "code",
        "colab": {
          "base_uri": "https://localhost:8080/",
          "height": 34
        },
        "outputId": "69cb0648-ce15-435c-c19c-da219a1912b5"
      },
      "source": [
        "#Random Forest\n",
        "\n",
        "from sklearn.ensemble import RandomForestClassifier\n",
        "rand_for=RandomForestClassifier(criterion='entropy',n_estimators=150,max_features=6,random_state=14,oob_score=True)\n",
        "rand_for.fit(scaled_X_train,Y_train)\n",
        "print('The out of bag score is given by',rand_for.oob_score_)\n"
      ],
      "execution_count": 107,
      "outputs": [
        {
          "output_type": "stream",
          "text": [
            "The out of bag score is given by 0.9871969490602016\n"
          ],
          "name": "stdout"
        }
      ]
    },
    {
      "cell_type": "code",
      "metadata": {
        "id": "d6Zt2_9ycsDq",
        "colab_type": "code",
        "colab": {
          "base_uri": "https://localhost:8080/",
          "height": 230
        },
        "outputId": "b40df49d-d2ae-40d2-8854-7dc08a4bdf21"
      },
      "source": [
        "y_predict=rand_for.predict(scaled_X_test)\n",
        "print(classification_report(Y_test,Y_pred))\n",
        "print(accuracy_score(Y_test,Y_pred))\n",
        "print(confusion_matrix(Y_test,Y_pred))"
      ],
      "execution_count": 108,
      "outputs": [
        {
          "output_type": "stream",
          "text": [
            "              precision    recall  f1-score   support\n",
            "\n",
            "           0       0.98      1.00      0.99      1116\n",
            "           1       0.96      0.81      0.87       108\n",
            "\n",
            "    accuracy                           0.98      1224\n",
            "   macro avg       0.97      0.90      0.93      1224\n",
            "weighted avg       0.98      0.98      0.98      1224\n",
            "\n",
            "0.9795751633986928\n",
            "[[1112    4]\n",
            " [  21   87]]\n"
          ],
          "name": "stdout"
        }
      ]
    },
    {
      "cell_type": "code",
      "metadata": {
        "id": "aVRYWucwdXYV",
        "colab_type": "code",
        "colab": {
          "base_uri": "https://localhost:8080/",
          "height": 34
        },
        "outputId": "60ca04e3-e872-4da9-ad6e-77ca21da4540"
      },
      "source": [
        "rand_for_prob=rand_for.predict_proba(scaled_X_test)\n",
        "fpr7,tpr7,thresholds7=roc_curve(Y_test,rand_for_prob[:,1])\n",
        "roc_auc7=auc(fpr7,tpr7)\n",
        "print(\"Area under The rOC curve :%f\"  % roc_auc7)"
      ],
      "execution_count": 109,
      "outputs": [
        {
          "output_type": "stream",
          "text": [
            "Area under The rOC curve :0.991794\n"
          ],
          "name": "stdout"
        }
      ]
    },
    {
      "cell_type": "markdown",
      "metadata": {
        "id": "rCbP5OF1e73h",
        "colab_type": "text"
      },
      "source": [
        "We got 98% accuracy with 89% recall value and an astonishing 99.6% area under the curve. Also, oob score counts to around 99%"
      ]
    },
    {
      "cell_type": "code",
      "metadata": {
        "id": "YCYOmwWIdKeC",
        "colab_type": "code",
        "colab": {
          "base_uri": "https://localhost:8080/",
          "height": 34
        },
        "outputId": "c439c167-569c-40b9-8a00-b32fde78056e"
      },
      "source": [
        "#Random Forest\n",
        "#Let’s try with the criterion ‘gini’:\n",
        "\n",
        "from sklearn.ensemble import RandomForestClassifier\n",
        "rand_for=RandomForestClassifier(criterion='gini',n_estimators=150,max_features=6,random_state=14,oob_score=True)\n",
        "rand_for.fit(scaled_X_train,Y_train)\n",
        "print('The out of bag score is given by',rand_for.oob_score_)\n"
      ],
      "execution_count": 112,
      "outputs": [
        {
          "output_type": "stream",
          "text": [
            "The out of bag score is given by 0.9882865704167801\n"
          ],
          "name": "stdout"
        }
      ]
    },
    {
      "cell_type": "code",
      "metadata": {
        "id": "nqW1fvlZdvO-",
        "colab_type": "code",
        "colab": {
          "base_uri": "https://localhost:8080/",
          "height": 230
        },
        "outputId": "0f910b51-8fd1-426f-86e9-171f72918f5f"
      },
      "source": [
        "y_predict=rand_for.predict(scaled_X_test)\n",
        "print(classification_report(Y_test,Y_pred))\n",
        "print(accuracy_score(Y_test,Y_pred))\n",
        "print(confusion_matrix(Y_test,Y_pred))"
      ],
      "execution_count": 113,
      "outputs": [
        {
          "output_type": "stream",
          "text": [
            "              precision    recall  f1-score   support\n",
            "\n",
            "           0       0.98      1.00      0.99      1116\n",
            "           1       0.96      0.81      0.87       108\n",
            "\n",
            "    accuracy                           0.98      1224\n",
            "   macro avg       0.97      0.90      0.93      1224\n",
            "weighted avg       0.98      0.98      0.98      1224\n",
            "\n",
            "0.9795751633986928\n",
            "[[1112    4]\n",
            " [  21   87]]\n"
          ],
          "name": "stdout"
        }
      ]
    },
    {
      "cell_type": "code",
      "metadata": {
        "id": "eE2KSkqWdwUr",
        "colab_type": "code",
        "colab": {
          "base_uri": "https://localhost:8080/",
          "height": 34
        },
        "outputId": "d279de59-ac97-4114-bb3a-b88fc667cba5"
      },
      "source": [
        "rand_for_prob=rand_for.predict_proba(scaled_X_test)\n",
        "fpr8,tpr8,thresholds8=roc_curve(Y_test,rand_for_prob[:,1])\n",
        "roc_auc8=auc(fpr8,tpr8)\n",
        "print(\"Area under The rOC curve :%f\"  % roc_auc8)"
      ],
      "execution_count": 114,
      "outputs": [
        {
          "output_type": "stream",
          "text": [
            "Area under The rOC curve :0.992554\n"
          ],
          "name": "stdout"
        }
      ]
    },
    {
      "cell_type": "markdown",
      "metadata": {
        "id": "BUPIuuFeuVHW",
        "colab_type": "text"
      },
      "source": [
        "Unsupervised learning is very useful in exploratory analysis because it can automatically identify structure in data. For example, if an bank were trying to segment consumers, unsupervised clustering methods would be a great starting point for their analysis. In situations where it is either impossible or impractical for a human to propose trends in the data, unsupervised learning can provide initial insights that can then be used to test individual hypotheses.\n",
        "\n",
        "SVM can be deployed to predict the likelihood of a liability customer buying personal loans but we will look further if trees can predict better or not.\n",
        "\n",
        "The decision tree's biggest disadvantage is it overfits the data. To overcome this, we use hyper-parameters to do the pruning or cutting down its branches so that it generalizes well.\n",
        "\n",
        "Random forest is an extension of bagged decision trees.\n",
        "Samples of the training dataset are taken with replacement, but the trees are constructed in a way that reduces the correlation between individual classifiers. Specifically, rather than greedily choosing the best split point in the construction of the tree, only a random subset of features is considered for each split.\n",
        "\n",
        "\n",
        "\n",
        "\n",
        "\n",
        "\n",
        "\n",
        "\n",
        "THANK YOU....."
      ]
    }
  ]
}